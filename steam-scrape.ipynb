{
 "cells": [
  {
   "cell_type": "markdown",
   "id": "8879873c",
   "metadata": {},
   "source": [
    "# Web Scraping Steam Game Store with lxml Library"
   ]
  },
  {
   "cell_type": "markdown",
   "id": "cbab7196",
   "metadata": {},
   "source": [
    "<p style=\"text-align:center;\">\n",
    "    <img src="images/web_scrape.jpg" alt=\"Web scraping process\" title=\"Web Scraping Process\" width=\"700\"><br>\n",
    "    <center><i>Image Source: <a href=\"https://www.technoarchsoftwares.com/blog/web-scraping-in-python/\">Technoarch Softwares</a></i></center>\n",
    "</p>"
   ]
  },
  {
   "cell_type": "markdown",
   "id": "d57eb320",
   "metadata": {
    "toc": true
   },
   "source": [
    "<h1>Table of Contents<span class=\"tocSkip\"></span></h1>\n",
    "<div class=\"toc\"><ul class=\"toc-item\"><li><span><a href=\"#Introduction\" data-toc-modified-id=\"Introduction-1\"><span class=\"toc-item-num\">1&nbsp;&nbsp;</span>Introduction</a></span><ul class=\"toc-item\"><li><span><a href=\"#Aim\" data-toc-modified-id=\"Aim-1.1\"><span class=\"toc-item-num\">1.1&nbsp;&nbsp;</span>Aim</a></span></li><li><span><a href=\"#Objective\" data-toc-modified-id=\"Objective-1.2\"><span class=\"toc-item-num\">1.2&nbsp;&nbsp;</span>Objective</a></span></li><li><span><a href=\"#About-Python-lxml-Library\" data-toc-modified-id=\"About-Python-lxml-Library-1.3\"><span class=\"toc-item-num\">1.3&nbsp;&nbsp;</span>About Python lxml Library</a></span></li><li><span><a href=\"#About-Steam-Game-Store\" data-toc-modified-id=\"About-Steam-Game-Store-1.4\"><span class=\"toc-item-num\">1.4&nbsp;&nbsp;</span>About Steam Game Store</a></span></li></ul></li><li><span><a href=\"#Prerequisites\" data-toc-modified-id=\"Prerequisites-2\"><span class=\"toc-item-num\">2&nbsp;&nbsp;</span>Prerequisites</a></span><ul class=\"toc-item\"><li><span><a href=\"#Create-Virtual-Environment\" data-toc-modified-id=\"Create-Virtual-Environment-2.1\"><span class=\"toc-item-num\">2.1&nbsp;&nbsp;</span>Create Virtual Environment</a></span></li><li><span><a href=\"#Import-Required-Libraries\" data-toc-modified-id=\"Import-Required-Libraries-2.2\"><span class=\"toc-item-num\">2.2&nbsp;&nbsp;</span>Import Required Libraries</a></span></li><li><span><a href=\"#Explore-Steam\" data-toc-modified-id=\"Explore-Steam-2.3\"><span class=\"toc-item-num\">2.3&nbsp;&nbsp;</span>Explore Steam</a></span></li><li><span><a href=\"#Get-Xpath\" data-toc-modified-id=\"Get-Xpath-2.4\"><span class=\"toc-item-num\">2.4&nbsp;&nbsp;</span>Get Xpath</a></span></li></ul></li><li><span><a href=\"#Extract-Titles-&amp;-Prices\" data-toc-modified-id=\"Extract-Titles-&amp;-Prices-3\"><span class=\"toc-item-num\">3&nbsp;&nbsp;</span>Extract Titles &amp; Prices</a></span></li><li><span><a href=\"#Extract-Tags\" data-toc-modified-id=\"Extract-Tags-4\"><span class=\"toc-item-num\">4&nbsp;&nbsp;</span>Extract Tags</a></span></li><li><span><a href=\"#Extract-Platform-Names\" data-toc-modified-id=\"Extract-Platform-Names-5\"><span class=\"toc-item-num\">5&nbsp;&nbsp;</span>Extract Platform Names</a></span></li><li><span><a href=\"#Assemble-Everything\" data-toc-modified-id=\"Assemble-Everything-6\"><span class=\"toc-item-num\">6&nbsp;&nbsp;</span>Assemble Everything</a></span></li><li><span><a href=\"#Issues-&amp;-Fixes\" data-toc-modified-id=\"Issues-&amp;-Fixes-7\"><span class=\"toc-item-num\">7&nbsp;&nbsp;</span>Issues &amp; Fixes</a></span></li><li><span><a href=\"#Conclusion\" data-toc-modified-id=\"Conclusion-8\"><span class=\"toc-item-num\">8&nbsp;&nbsp;</span>Conclusion</a></span></li></ul></div>"
   ]
  },
  {
   "cell_type": "markdown",
   "id": "c64b0f7c",
   "metadata": {},
   "source": [
    "## Introduction"
   ]
  },
  {
   "cell_type": "markdown",
   "id": "d647ef3b",
   "metadata": {},
   "source": [
    "### Aim"
   ]
  },
  {
   "cell_type": "markdown",
   "id": "8bd7b32a",
   "metadata": {},
   "source": [
    "The main aim of this project is to extract and access the data on Steam website in an easily readable format using `lxml` library. Specifically, we will be extracting information from the *Popular New Releases* section of the website. The output will be provided in a JSON format, that can be used further for other applications."
   ]
  },
  {
   "cell_type": "markdown",
   "id": "2fdd5e1a",
   "metadata": {},
   "source": [
    "### Objective"
   ]
  },
  {
   "cell_type": "markdown",
   "id": "53755016",
   "metadata": {},
   "source": [
    "The objective of this project is to examine the significance of web scraping. For example, we want to create a website that curates the cheapest products from Amazon other similar e-commerce websites. Many of such websites do not provide us with an easy way to access their information using an API. In the absence of an API, our only choice is to create a web scraper which can extract information from these websites automatically and provide us with that information in an easy to use way."
   ]
  },
  {
   "cell_type": "markdown",
   "id": "77b25938",
   "metadata": {},
   "source": [
    "### About Python lxml Library"
   ]
  },
  {
   "cell_type": "markdown",
   "id": "2ad9414b",
   "metadata": {},
   "source": [
    "`lxml` is a Python library which allows for easy handling of XML and HTML files, and can also be used for web scraping. There are a lot of off-the-shelf XML parsers out there, but for better results, developers sometimes prefer to write their own XML and HTML parsers and this is when the `lxml` library comes to play. The key benefits of this library are that it's ease of use, extremely fast when parsing large documents, very well documented, and provides easy conversion of data to Python data types, resulting in easier file manipulation. There are other Python libraries for this like `BeautifulSoup` and `Scrapy`. However, `lxml` library is the one that powers both of these libraries. Here, we will be using XPaths to extract data from HTML documents."
   ]
  },
  {
   "cell_type": "markdown",
   "id": "370f7c0e",
   "metadata": {},
   "source": [
    "### About Steam Game Store"
   ]
  },
  {
   "cell_type": "markdown",
   "id": "69aa3ae3",
   "metadata": {},
   "source": [
    "Steam is an online platform from game developer Valve where we can buy, play, create, and discuss PC games. The platform hosts thousands of games (as well as downloadable content (DLC), and user-generated features called \"mods\") from major developers and independent game designers alike."
   ]
  },
  {
   "cell_type": "markdown",
   "id": "61359211",
   "metadata": {},
   "source": [
    "## Prerequisites"
   ]
  },
  {
   "cell_type": "markdown",
   "id": "05cb713d",
   "metadata": {},
   "source": [
    "### Create Virtual Environment"
   ]
  },
  {
   "cell_type": "markdown",
   "id": "6c9af45a",
   "metadata": {},
   "source": [
    "First of all, we will create a new virtual environment named `steam-env` and activate it. Once that is done, we will add it to this notebook as a Python kernel."
   ]
  },
  {
   "cell_type": "code",
   "execution_count": 1,
   "id": "83bdde5c",
   "metadata": {},
   "outputs": [],
   "source": [
    "!python -m venv steam-env\n",
    "!.\\steam-env\\Scripts\\activate\n",
    "!ipython kernel install --user --name=steam-env"
   ]
  },
  {
   "cell_type": "markdown",
   "id": "9de38105",
   "metadata": {},
   "source": [
    "We will generate a list of all active kernels to check if `steam-env` is active."
   ]
  },
  {
   "cell_type": "code",
   "execution_count": 2,
   "id": "ee5a31eb",
   "metadata": {},
   "outputs": [
    {
     "name": "stdout",
     "output_type": "stream",
     "text": [
      "Available kernels:\n",
      "  steam-env    C:\\Users\\de777\\AppData\\Roaming\\jupyter\\kernels\\steam-env\n",
      "  python3      D:\\Python\\share\\jupyter\\kernels\\python3\n"
     ]
    }
   ],
   "source": [
    "!jupyter kernelspec list"
   ]
  },
  {
   "cell_type": "markdown",
   "id": "dfb18d87",
   "metadata": {},
   "source": [
    "Now, we will need to refresh/relaunch the notebook and then select the newly created kernel `steam-env` by navigating to `Toolbar Menu` $\\rightarrow$ `Kernel` $\\rightarrow$ `Change kernel` $\\rightarrow$ `steam-env`."
   ]
  },
  {
   "cell_type": "markdown",
   "id": "8447f1d2",
   "metadata": {},
   "source": [
    "### Import Required Libraries"
   ]
  },
  {
   "cell_type": "markdown",
   "id": "a7aa7f0c",
   "metadata": {},
   "source": [
    "We will now install and import the required libraries. The `requests` library is required to help us open the web page (URL) in Python.\n",
    "\n",
    "*Note*: We can use `lxml` as well to open HTML pages, but it doesn’t work well with all web pages."
   ]
  },
  {
   "cell_type": "code",
   "execution_count": 3,
   "id": "bc93b82a",
   "metadata": {},
   "outputs": [],
   "source": [
    "# !pip install requests\n",
    "# !pip install lxml\n",
    "import requests\n",
    "import lxml.html"
   ]
  },
  {
   "cell_type": "markdown",
   "id": "8dd77e60",
   "metadata": {},
   "source": [
    "### Explore Steam"
   ]
  },
  {
   "cell_type": "markdown",
   "id": "8e4f90f5",
   "metadata": {},
   "source": [
    "First, we will open up the Steam website: https://store.steampowered.com/explore/new/ in a web browser and scroll down until we see the *Popular New Releases* tab. Here, we will find a list of the popular newly released games."
   ]
  },
  {
   "cell_type": "markdown",
   "id": "95a82c12",
   "metadata": {},
   "source": [
    "<p style=\"text-align:center;\">\n",
    "    <img src=\"./images/screen1.png\" alt=\"steam_website\" title=\"Steam website\" width=\"1000\"><br>\n",
    "    <center><i>Steam website</i></center>\n",
    "</p>"
   ]
  },
  {
   "cell_type": "markdown",
   "id": "9301923e",
   "metadata": {},
   "source": [
    "At this point, we will open up the browser's developer tools (e.g., shortcut for Chrome browser: `Ctrl+Shift+I`) and check which HTML tags contain the required data. We can use the element inspector tool (the top-left button of the developer tools) to view the HTML markup behind a specific element on the page with a single click."
   ]
  },
  {
   "cell_type": "markdown",
   "id": "d8eac71f",
   "metadata": {},
   "source": [
    "<p style=\"text-align:center;\">\n",
    "    <img src=\"./images/screen2.png\" alt=\"inspect_element\" title=\"HTML markup\" width=\"1000\"><br>\n",
    "    <center><i>HTML markup : Inspect Element</i></center>\n",
    "</p>"
   ]
  },
  {
   "cell_type": "markdown",
   "id": "60ea2e64",
   "metadata": {},
   "source": [
    "From the screenshot above, we can see that every separate list item is encapsulated in a HTML anchor (`<a>`) tag and the anchor tags themselves are encapsulated in the `div` tags with an `id=\"tab_newreleases_content\"`. We will first extract the *Popular New Releases* tab, and then we will extract the required information from within this tag."
   ]
  },
  {
   "cell_type": "markdown",
   "id": "91335478",
   "metadata": {},
   "source": [
    "### Get Xpath"
   ]
  },
  {
   "cell_type": "markdown",
   "id": "c70140ee",
   "metadata": {},
   "source": [
    "Now, we will open up the web page using `requests` method and pass that response to `lxml.html.fromstring` method. This provides us with an object of `HtmlElement` type containing the `XPath` method which we can use to query the HTML document to extract information in a structured way."
   ]
  },
  {
   "cell_type": "code",
   "execution_count": 4,
   "id": "b087ad63",
   "metadata": {},
   "outputs": [],
   "source": [
    "html = requests.get('https://store.steampowered.com/explore/new/')\n",
    "doc = lxml.html.fromstring(html.content)"
   ]
  },
  {
   "cell_type": "markdown",
   "id": "e154fc46",
   "metadata": {},
   "source": [
    "Next, we will write an `XPath` to extract the `div` tag which contains the *Popular New Releases* tab. This returns a list of all the `div` tags in the HTML page having an id of `tab_newreleases_content`. Since we know that only one `div` on the page has this id, we will take out the first element from the list (`[0]`) and that would be the required one for our case."
   ]
  },
  {
   "cell_type": "code",
   "execution_count": 5,
   "id": "10d268e4",
   "metadata": {},
   "outputs": [],
   "source": [
    "new_releases = doc.xpath('//div[@id=\"tab_newreleases_content\"]')[0]"
   ]
  },
  {
   "cell_type": "markdown",
   "id": "a304f844",
   "metadata": {},
   "source": [
    "## Extract Titles & Prices"
   ]
  },
  {
   "cell_type": "markdown",
   "id": "4907d9b7",
   "metadata": {},
   "source": [
    "Going back to the browser, we will check for the tag containing the titles of the releases."
   ]
  },
  {
   "cell_type": "markdown",
   "id": "9d474a43",
   "metadata": {},
   "source": [
    "<p style=\"text-align:center;\">\n",
    "    <img src=\"./images/screen3.png\" alt=\"titles_prices\" title=\"Titles & prices in div tags\" width=\"1000\"><br>\n",
    "    <center><i>Titles & prices in div tags</i></center>\n",
    "</p>"
   ]
  },
  {
   "cell_type": "markdown",
   "id": "0a954fbe",
   "metadata": {},
   "source": [
    "As we can see, title is contained in the `div` tag with a class of `tab_item_name`. So, we run further `XPath` query on the already extracted *Popular New Releases* tab (variable `new_releases`) to get the titles of all games in the *Popular New Releases* tab."
   ]
  },
  {
   "cell_type": "code",
   "execution_count": 6,
   "id": "e960c470",
   "metadata": {},
   "outputs": [
    {
     "name": "stdout",
     "output_type": "stream",
     "text": [
      "['VTOL VR: AH-94 Attack Helicopter', 'Dead Cells: The Queen and the Sea', 'Fears to Fathom - Norwood Hitchhike', 'Electrician Simulator - First Shock', 'Smart Factory Tycoon: Beginnings', 'At Home Alone Final', 'Total War: WARHAMMER III', 'Clownfield 2042', 'Martial Law', 'The Planet Crafter: Prologue', 'The Two of Us', \"Baldur's Gate: Dark Alliance\", 'Chill Corner', \"Five Nights at Freddy's: Security Breach\", 'Eraser', 'Bitburner', 'The Chronicles Of Myrtana: Archolos', 'GTFO', 'After the Fall® - Launch Edition', 'Halo Infinite (Campaign)', 'Destiny 2: Bungie 30th Anniversary Pack', 'Thunder Tier One', 'Knell of St. Godhrkar', 'Archvale', 'Century: Age of Ashes', 'Propnight', 'Bloons TD Battles 2', 'Substance 3D Painter 2022', 'Farming Simulator 22', 'Snake Force', 'Gunfire Reborn', 'Ruined King: A League of Legends Story™', 'Ruined King: A League of Legends Story™', 'Grow: Song of the Evertree', 'DYSMANTLE', 'Halo Infinite']\n"
     ]
    }
   ],
   "source": [
    "titles = new_releases.xpath('.//div[@class=\"tab_item_name\"]/text()')\n",
    "print(titles)"
   ]
  },
  {
   "cell_type": "markdown",
   "id": "f245cc0b",
   "metadata": {},
   "source": [
    "Similarly, we extract the prices for the games as a list. Here, class name would be `discount_final_price`."
   ]
  },
  {
   "cell_type": "code",
   "execution_count": 7,
   "id": "f9cb05fa",
   "metadata": {},
   "outputs": [
    {
     "name": "stdout",
     "output_type": "stream",
     "text": [
      "['A$ 13.56', 'A$ 7.50', 'A$ 4.50', 'Free', 'Free To Play', 'Free To Play', 'A$ 89.95', 'A$ 1.35', 'Free', 'Free To Play', 'Free', 'A$ 42.95', 'Free', 'A$ 56.95', 'Free', 'Free To Play', 'Free', 'A$ 54.99', 'A$ 56.99', 'A$ 89.95', 'A$ 36.95', 'A$ 28.95', 'Free To Play', 'A$ 21.50', 'Free To Play', 'A$ 28.95', 'Free To Play', 'A$ 209.95', 'A$ 65.99', 'Free To Play', 'A$ 28.95', 'A$ 44.95', 'A$ 44.95', 'A$ 26.76', 'A$ 28.95', 'Free To Play']\n"
     ]
    }
   ],
   "source": [
    "prices = new_releases.xpath('.//div[@class=\"discount_final_price\"]/text()')\n",
    "print(prices)"
   ]
  },
  {
   "cell_type": "markdown",
   "id": "b17b8484",
   "metadata": {},
   "source": [
    "## Extract Tags"
   ]
  },
  {
   "cell_type": "markdown",
   "id": "a6f465c7",
   "metadata": {},
   "source": [
    "To extract the tags associated with the game titles (e.g.,RPG, Multiplayer, Action etc.), we will extract the `div` tags with a class of `tab_item_top_tags`. Then we will loop over the list of extracted tags and get the text from those tags using the `text_content()` method. This will return the text contained within each HTML tag without the HTML markup."
   ]
  },
  {
   "cell_type": "markdown",
   "id": "0c8315b5",
   "metadata": {},
   "source": [
    "<p style=\"text-align:center;\">\n",
    "    <img src=\"./images/screen4.png\" alt=\"game_tags\" title=\"HTML markup : Game Tags\" width=\"1000\"><br>\n",
    "    <center><i>HTML markup : Game Tags</i></center>\n",
    "</p>"
   ]
  },
  {
   "cell_type": "code",
   "execution_count": 8,
   "id": "834a4322",
   "metadata": {},
   "outputs": [
    {
     "name": "stdout",
     "output_type": "stream",
     "text": [
      "['Simulation, Action, Indie', 'Indie, Action, Metroidvania, Pixel Graphics', 'Psychological Horror, Thriller, Atmospheric, Horror', 'Simulation, Indie, Education, Realistic', 'Simulation, Strategy, Resource Management, Management', 'RPG, Horror, Psychological Horror, Drama', 'Strategy, Action, Grand Strategy, Turn-Based Strategy', 'Action, Arcade, Military, 3D', 'Pixel Graphics, Atmospheric, Choices Matter, Adventure', 'Open World Survival Craft, Survival, Open World, Exploration', 'Online Co-Op, Strategy, 2D Platformer, Puzzle Platformer', 'Action, RPG, Action RPG, Dungeon Crawler', 'Relaxing, Atmospheric, Casual, Utilities', 'Horror, Survival Horror, Singleplayer, Robots', '3D Platformer, Indie, Online Co-Op, Difficult', 'Programming, Idler, Automation, Cyberpunk', 'RPG, Open World, Story Rich, Singleplayer', 'Co-op, Online Co-Op, FPS, Horror', 'Action, VR, Adventure, Gore', 'Action, Adventure, Shooter, FPS', 'Adventure, Action, Free to Play, Looter Shooter', 'Online Co-Op, Top-Down Shooter, Tactical, Shooter', 'Adventure, RPG, Strategy, Visual Novel', 'Action, Adventure, Bullet Hell, Action RPG', 'Free to Play, Dragons, Multiplayer, Action', 'Action, Multiplayer, Horror, Survival Horror', 'Strategy, Free to Play, Tower Defense, Multiplayer', 'Animation & Modeling, Game Development', 'Co-op, Simulation, Farming Sim, Agriculture', 'Action, Shooter, Top-Down Shooter, 3D', 'FPS, Roguelite, Co-op, Online Co-Op', 'RPG, Turn-Based Combat, Singleplayer, Fantasy', 'RPG, Turn-Based Combat, Singleplayer, Fantasy', 'Adventure, Casual, Simulation, Exploration', 'Survival, Open World, Crafting, RPG', 'FPS, Free to Play, Multiplayer, Action']\n"
     ]
    }
   ],
   "source": [
    "tags = [tag.text_content() for tag in new_releases.xpath('.//div[@class=\"tab_item_top_tags\"]')]\n",
    "print(tags)"
   ]
  },
  {
   "cell_type": "markdown",
   "id": "a66a68ba",
   "metadata": {},
   "source": [
    "Let us separate the tags in a list as well, so that each tag is a separate element."
   ]
  },
  {
   "cell_type": "code",
   "execution_count": 9,
   "id": "d1da52a3",
   "metadata": {},
   "outputs": [
    {
     "name": "stdout",
     "output_type": "stream",
     "text": [
      "[['Simulation', 'Action', 'Indie'], ['Indie', 'Action', 'Metroidvania', 'Pixel Graphics'], ['Psychological Horror', 'Thriller', 'Atmospheric', 'Horror'], ['Simulation', 'Indie', 'Education', 'Realistic'], ['Simulation', 'Strategy', 'Resource Management', 'Management'], ['RPG', 'Horror', 'Psychological Horror', 'Drama'], ['Strategy', 'Action', 'Grand Strategy', 'Turn-Based Strategy'], ['Action', 'Arcade', 'Military', '3D'], ['Pixel Graphics', 'Atmospheric', 'Choices Matter', 'Adventure'], ['Open World Survival Craft', 'Survival', 'Open World', 'Exploration'], ['Online Co-Op', 'Strategy', '2D Platformer', 'Puzzle Platformer'], ['Action', 'RPG', 'Action RPG', 'Dungeon Crawler'], ['Relaxing', 'Atmospheric', 'Casual', 'Utilities'], ['Horror', 'Survival Horror', 'Singleplayer', 'Robots'], ['3D Platformer', 'Indie', 'Online Co-Op', 'Difficult'], ['Programming', 'Idler', 'Automation', 'Cyberpunk'], ['RPG', 'Open World', 'Story Rich', 'Singleplayer'], ['Co-op', 'Online Co-Op', 'FPS', 'Horror'], ['Action', 'VR', 'Adventure', 'Gore'], ['Action', 'Adventure', 'Shooter', 'FPS'], ['Adventure', 'Action', 'Free to Play', 'Looter Shooter'], ['Online Co-Op', 'Top-Down Shooter', 'Tactical', 'Shooter'], ['Adventure', 'RPG', 'Strategy', 'Visual Novel'], ['Action', 'Adventure', 'Bullet Hell', 'Action RPG'], ['Free to Play', 'Dragons', 'Multiplayer', 'Action'], ['Action', 'Multiplayer', 'Horror', 'Survival Horror'], ['Strategy', 'Free to Play', 'Tower Defense', 'Multiplayer'], ['Animation & Modeling', 'Game Development'], ['Co-op', 'Simulation', 'Farming Sim', 'Agriculture'], ['Action', 'Shooter', 'Top-Down Shooter', '3D'], ['FPS', 'Roguelite', 'Co-op', 'Online Co-Op'], ['RPG', 'Turn-Based Combat', 'Singleplayer', 'Fantasy'], ['RPG', 'Turn-Based Combat', 'Singleplayer', 'Fantasy'], ['Adventure', 'Casual', 'Simulation', 'Exploration'], ['Survival', 'Open World', 'Crafting', 'RPG'], ['FPS', 'Free to Play', 'Multiplayer', 'Action']]\n"
     ]
    }
   ],
   "source": [
    "tags = [tag.split(', ') for tag in tags]\n",
    "print(tags)"
   ]
  },
  {
   "cell_type": "markdown",
   "id": "ee0a05ce",
   "metadata": {},
   "source": [
    "## Extract Platform Names"
   ]
  },
  {
   "cell_type": "markdown",
   "id": "c72f44e2",
   "metadata": {},
   "source": [
    "Next, we will extract the gaming platforms associated with each title. Notably, the key difference here is that the platform types are not contained as texts within a specific tag like in the cases seen before. Instead, they are listed as the class names like this :\n",
    ">```\n",
    "<span class=\"platform_img win\"></span>\n",
    "<span class=\"platform_img mac\"></span>\n",
    "<span class=\"platform_img linux\"></span>\n",
    "\n",
    "As we can see, a common thing between these `span` tags is that all of them contain the `platform_img` class. Also, the number of platforms associated with the titles varies for different games."
   ]
  },
  {
   "cell_type": "markdown",
   "id": "9099142a",
   "metadata": {},
   "source": [
    "<p style=\"text-align:center;\">\n",
    "    <img src=\"./images/screen5.png\" alt=\"platform_info\" title=\"HTML markup : Platform Info\" width=\"1000\"><br>\n",
    "    <center><i>HTML markup : Platform Info</i></center>\n",
    "</p>"
   ]
  },
  {
   "cell_type": "markdown",
   "id": "4a4c689b",
   "metadata": {},
   "source": [
    "Here, firstly we will extract the `div` tags with the `tab_item_details` class. Then we will extract the `span` tags containing the `platform_img` class. And finally, we will extract the second class name from those `span` tags."
   ]
  },
  {
   "cell_type": "code",
   "execution_count": 10,
   "id": "ef526291",
   "metadata": {},
   "outputs": [],
   "source": [
    "platforms_div = new_releases.xpath('.//div[@class=\"tab_item_details\"]')\n",
    "#extract tab_item_details class\n",
    "\n",
    "total_platforms = []\n",
    "#blank variable\n",
    "\n",
    "for game in platforms_div:\n",
    "    temp = game.xpath('.//span[contains(@class, \"platform_img\")]') \n",
    "    #filter all spans with platform_img class\n",
    "    \n",
    "    platforms = [t.get('class').split(' ')[-1] for t in temp] \n",
    "    #extract class attribute of a span as string, split it based on whitespace, and\n",
    "    #store last part having actual platform name\n",
    "    \n",
    "    if 'hmd_separator' in platforms:\n",
    "        platforms.remove('hmd_separator')\n",
    "    #remove hmd_separator from list if it exists as its not a platform name, \n",
    "    #just a vertical separator bar to separate actual platforms from VR/AR\n",
    "    \n",
    "    total_platforms.append(platforms)"
   ]
  },
  {
   "cell_type": "markdown",
   "id": "0ff15e85",
   "metadata": {},
   "source": [
    "## Assemble Everything"
   ]
  },
  {
   "cell_type": "markdown",
   "id": "336ce63e",
   "metadata": {},
   "source": [
    "We need the output to return a JSON response which can be easily turned into a web-based API or used in other project. For this, we will use the `zip` function to iterate over all of those lists in parallel. Then, we will create a dictionary for each game and assign the title, price, tags, and platforms as separate keys in that dictionary. Finally, we will append that dictionary to the `output` list."
   ]
  },
  {
   "cell_type": "code",
   "execution_count": 11,
   "id": "cd9453cf",
   "metadata": {},
   "outputs": [
    {
     "name": "stdout",
     "output_type": "stream",
     "text": [
      "[{'title': 'VTOL VR: AH-94 Attack Helicopter', 'price': 'A$ 13.56', 'tags': ['Simulation', 'Action', 'Indie'], 'platforms': ['win']}, {'title': 'Dead Cells: The Queen and the Sea', 'price': 'A$ 7.50', 'tags': ['Indie', 'Action', 'Metroidvania', 'Pixel Graphics'], 'platforms': ['win', 'mac', 'linux']}, {'title': 'Fears to Fathom - Norwood Hitchhike', 'price': 'A$ 4.50', 'tags': ['Psychological Horror', 'Thriller', 'Atmospheric', 'Horror'], 'platforms': ['win']}, {'title': 'Electrician Simulator - First Shock', 'price': 'Free', 'tags': ['Simulation', 'Indie', 'Education', 'Realistic'], 'platforms': ['win']}, {'title': 'Smart Factory Tycoon: Beginnings', 'price': 'Free To Play', 'tags': ['Simulation', 'Strategy', 'Resource Management', 'Management'], 'platforms': ['win']}, {'title': 'At Home Alone Final', 'price': 'Free To Play', 'tags': ['RPG', 'Horror', 'Psychological Horror', 'Drama'], 'platforms': ['win']}, {'title': 'Total War: WARHAMMER III', 'price': 'A$ 89.95', 'tags': ['Strategy', 'Action', 'Grand Strategy', 'Turn-Based Strategy'], 'platforms': ['win', 'mac', 'linux']}, {'title': 'Clownfield 2042', 'price': 'A$ 1.35', 'tags': ['Action', 'Arcade', 'Military', '3D'], 'platforms': ['win']}, {'title': 'Martial Law', 'price': 'Free', 'tags': ['Pixel Graphics', 'Atmospheric', 'Choices Matter', 'Adventure'], 'platforms': ['win', 'mac', 'linux']}, {'title': 'The Planet Crafter: Prologue', 'price': 'Free To Play', 'tags': ['Open World Survival Craft', 'Survival', 'Open World', 'Exploration'], 'platforms': ['win']}, {'title': 'The Two of Us', 'price': 'Free', 'tags': ['Online Co-Op', 'Strategy', '2D Platformer', 'Puzzle Platformer'], 'platforms': ['win']}, {'title': \"Baldur's Gate: Dark Alliance\", 'price': 'A$ 42.95', 'tags': ['Action', 'RPG', 'Action RPG', 'Dungeon Crawler'], 'platforms': ['win', 'mac', 'linux']}, {'title': 'Chill Corner', 'price': 'Free', 'tags': ['Relaxing', 'Atmospheric', 'Casual', 'Utilities'], 'platforms': ['win']}, {'title': \"Five Nights at Freddy's: Security Breach\", 'price': 'A$ 56.95', 'tags': ['Horror', 'Survival Horror', 'Singleplayer', 'Robots'], 'platforms': ['win']}, {'title': 'Eraser', 'price': 'Free', 'tags': ['3D Platformer', 'Indie', 'Online Co-Op', 'Difficult'], 'platforms': ['win']}, {'title': 'Bitburner', 'price': 'Free To Play', 'tags': ['Programming', 'Idler', 'Automation', 'Cyberpunk'], 'platforms': ['win', 'mac', 'linux']}, {'title': 'The Chronicles Of Myrtana: Archolos', 'price': 'Free', 'tags': ['RPG', 'Open World', 'Story Rich', 'Singleplayer'], 'platforms': ['win']}, {'title': 'GTFO', 'price': 'A$ 54.99', 'tags': ['Co-op', 'Online Co-Op', 'FPS', 'Horror'], 'platforms': ['win']}, {'title': 'After the Fall® - Launch Edition', 'price': 'A$ 56.99', 'tags': ['Action', 'VR', 'Adventure', 'Gore'], 'platforms': ['win']}, {'title': 'Halo Infinite (Campaign)', 'price': 'A$ 89.95', 'tags': ['Action', 'Adventure', 'Shooter', 'FPS'], 'platforms': ['win']}, {'title': 'Destiny 2: Bungie 30th Anniversary Pack', 'price': 'A$ 36.95', 'tags': ['Adventure', 'Action', 'Free to Play', 'Looter Shooter'], 'platforms': ['win']}, {'title': 'Thunder Tier One', 'price': 'A$ 28.95', 'tags': ['Online Co-Op', 'Top-Down Shooter', 'Tactical', 'Shooter'], 'platforms': ['win']}, {'title': 'Knell of St. Godhrkar', 'price': 'Free To Play', 'tags': ['Adventure', 'RPG', 'Strategy', 'Visual Novel'], 'platforms': ['win', 'mac']}, {'title': 'Archvale', 'price': 'A$ 21.50', 'tags': ['Action', 'Adventure', 'Bullet Hell', 'Action RPG'], 'platforms': ['win']}, {'title': 'Century: Age of Ashes', 'price': 'Free To Play', 'tags': ['Free to Play', 'Dragons', 'Multiplayer', 'Action'], 'platforms': ['win']}, {'title': 'Propnight', 'price': 'A$ 28.95', 'tags': ['Action', 'Multiplayer', 'Horror', 'Survival Horror'], 'platforms': ['win']}, {'title': 'Bloons TD Battles 2', 'price': 'Free To Play', 'tags': ['Strategy', 'Free to Play', 'Tower Defense', 'Multiplayer'], 'platforms': ['win', 'mac']}, {'title': 'Substance 3D Painter 2022', 'price': 'A$ 209.95', 'tags': ['Animation & Modeling', 'Game Development'], 'platforms': ['win', 'mac', 'linux']}, {'title': 'Farming Simulator 22', 'price': 'A$ 65.99', 'tags': ['Co-op', 'Simulation', 'Farming Sim', 'Agriculture'], 'platforms': ['win', 'mac']}, {'title': 'Snake Force', 'price': 'Free To Play', 'tags': ['Action', 'Shooter', 'Top-Down Shooter', '3D'], 'platforms': ['win', 'mac']}, {'title': 'Gunfire Reborn', 'price': 'A$ 28.95', 'tags': ['FPS', 'Roguelite', 'Co-op', 'Online Co-Op'], 'platforms': ['win']}, {'title': 'Ruined King: A League of Legends Story™', 'price': 'A$ 44.95', 'tags': ['RPG', 'Turn-Based Combat', 'Singleplayer', 'Fantasy'], 'platforms': ['win']}, {'title': 'Ruined King: A League of Legends Story™', 'price': 'A$ 44.95', 'tags': ['RPG', 'Turn-Based Combat', 'Singleplayer', 'Fantasy'], 'platforms': ['win']}, {'title': 'Grow: Song of the Evertree', 'price': 'A$ 26.76', 'tags': ['Adventure', 'Casual', 'Simulation', 'Exploration'], 'platforms': ['win']}, {'title': 'DYSMANTLE', 'price': 'A$ 28.95', 'tags': ['Survival', 'Open World', 'Crafting', 'RPG'], 'platforms': ['win', 'mac']}, {'title': 'Halo Infinite', 'price': 'Free To Play', 'tags': ['FPS', 'Free to Play', 'Multiplayer', 'Action'], 'platforms': ['win']}]\n"
     ]
    }
   ],
   "source": [
    "output = []\n",
    "\n",
    "for info in zip(titles,prices, tags, total_platforms):\n",
    "    resp = {}\n",
    "    resp['title'] = info[0]\n",
    "    resp['price'] = info[1]\n",
    "    resp['tags'] = info[2]\n",
    "    resp['platforms'] = info[3]\n",
    "    output.append(resp)\n",
    "    \n",
    "print(output)"
   ]
  },
  {
   "cell_type": "markdown",
   "id": "e3ee0bd7",
   "metadata": {},
   "source": [
    "## Issues & Fixes"
   ]
  },
  {
   "cell_type": "markdown",
   "id": "0dddcdb1",
   "metadata": {},
   "source": [
    "The major possible issues are discussed below :\n",
    "\n",
    "- **Steam not returning a proper response**\n",
    "> Reason might be that we are making a lot of requests in a short amount of time, which causes Steam to identify us as a bot and so, it refuses to return a proper response. We can overcome this issue by opening Steam in a browser and solving any CAPTCHA it might display. If that doesn’t work, we can use a web proxy to access Steam.\n",
    "\n",
    "- **`lxml` not parsing the data correctly**\n",
    "> We can solve this by opening up Steam in a browser, checking the HTML code closely and making sure that we are trying to extract data from the correct HTML tags."
   ]
  },
  {
   "cell_type": "markdown",
   "id": "88fdbaf6",
   "metadata": {},
   "source": [
    "## Conclusion"
   ]
  },
  {
   "cell_type": "markdown",
   "id": "79fd7395",
   "metadata": {},
   "source": [
    "Using this approach of web scraping, we can extract and access the data from Steam in an easily readable JSON format. We can finally use this output to create different sorts of services, for e.g., a service that monitors Steam for promotions on specific games and notifies us via email once it sees an attractive promotion. We can also create an routinely curated list of cheapest popular games for a specific platform available on Steam. Further, it can be turned into a web-based API using the Flask framework.\n",
    "\n",
    "**Special Note** : This is only an example of the process of web scraping. We must make sure that we do not infringe on the copyright laws of any service by doing this."
   ]
  },
  {
   "cell_type": "markdown",
   "id": "54ad1968",
   "metadata": {},
   "source": [
    "---"
   ]
  }
 ],
 "metadata": {
  "_draft": {
   "nbviewer_url": "https://gist.github.com/7f75c60e2cb48ae43edca7da30ddbebc"
  },
  "gist": {
   "data": {
    "description": "Scraping Steam Using lxml",
    "public": true
   },
   "id": "7f75c60e2cb48ae43edca7da30ddbebc"
  },
  "kernelspec": {
   "display_name": "steam-env",
   "language": "python",
   "name": "steam-env"
  },
  "language_info": {
   "codemirror_mode": {
    "name": "ipython",
    "version": 3
   },
   "file_extension": ".py",
   "mimetype": "text/x-python",
   "name": "python",
   "nbconvert_exporter": "python",
   "pygments_lexer": "ipython3",
   "version": "3.10.1"
  },
  "latex_envs": {
   "LaTeX_envs_menu_present": true,
   "autoclose": false,
   "autocomplete": true,
   "bibliofile": "biblio.bib",
   "cite_by": "apalike",
   "current_citInitial": 1,
   "eqLabelWithNumbers": true,
   "eqNumInitial": 1,
   "hotkeys": {
    "equation": "Ctrl-E",
    "itemize": "Ctrl-I"
   },
   "labels_anchors": false,
   "latex_user_defs": false,
   "report_style_numbering": false,
   "user_envs_cfg": false
  },
  "toc": {
   "base_numbering": 1,
   "nav_menu": {
    "height": "266px",
    "width": "282px"
   },
   "number_sections": true,
   "sideBar": true,
   "skip_h1_title": true,
   "title_cell": "Table of Contents",
   "title_sidebar": "Contents",
   "toc_cell": true,
   "toc_position": {
    "height": "calc(100% - 180px)",
    "left": "10px",
    "top": "150px",
    "width": "209.825px"
   },
   "toc_section_display": true,
   "toc_window_display": true
  }
 },
 "nbformat": 4,
 "nbformat_minor": 5
}
